{
 "cells": [
  {
   "cell_type": "code",
   "execution_count": 1,
   "metadata": {},
   "outputs": [
    {
     "name": "stdout",
     "output_type": "stream",
     "text": [
      "You've lost the winner turtle is orange\n"
     ]
    }
   ],
   "source": [
    "import turtle\n",
    "from turtle import Turtle, Screen\n",
    "import random\n",
    "new_turtle = Turtle()\n",
    "screen = Screen()\n",
    "screen.setup(width= 1000, height=500)\n",
    "user_choice = screen.textinput(title= \"Make your bet\", prompt=\"Which turtle will win  the race ? Enter a color:\\n\")\n",
    "colors = [ \"red\", \"orange\",\"yellow\", \"green\",\"blue\", \"purple\"]\n",
    "\n",
    "\n",
    "y_positions = [-140, -80, -20, 60,120,180]\n",
    "all_turtle = []\n",
    "\n",
    "for turtle_index in range(0, 6):\n",
    "    new_turtle = Turtle(shape=\"turtle\")\n",
    "    new_turtle.penup()\n",
    "    new_turtle.color(colors[turtle_index])\n",
    "    new_turtle.goto(x=-480, y=y_positions[turtle_index])\n",
    "    all_turtle.append(new_turtle)\n",
    "\n",
    "\n",
    "\n",
    "is_race_on = False\n",
    "\n",
    "if user_choice:\n",
    "    is_race_on = True\n",
    "\n",
    "while is_race_on:\n",
    "\n",
    "\n",
    "    for turtle in all_turtle:\n",
    "        if turtle.xcor()> 480:\n",
    "            is_race_on = False\n",
    "            winning_color = turtle.pencolor()\n",
    "            if winning_color == user_choice:\n",
    "                print(f\"You've Won!! The {winning_color} the turtle winner\")\n",
    "            else:\n",
    "                print(f\"You've lost the winner turtle is {winning_color}\")\n",
    "\n",
    "\n",
    "\n",
    "        rand_distance = random.randint(0, 10)\n",
    "        turtle.forward(rand_distance)\n",
    "\n",
    "\n",
    "\n",
    "\n",
    "\n",
    "screen.exitonclick()\n",
    "\n",
    "\n",
    "\n",
    "\n",
    "\n",
    "\n"
   ]
  },
  {
   "cell_type": "code",
   "execution_count": null,
   "metadata": {},
   "outputs": [],
   "source": []
  },
  {
   "cell_type": "code",
   "execution_count": null,
   "metadata": {},
   "outputs": [],
   "source": []
  }
 ],
 "metadata": {
  "kernelspec": {
   "display_name": "Python 3",
   "language": "python",
   "name": "python3"
  },
  "language_info": {
   "codemirror_mode": {
    "name": "ipython",
    "version": 3
   },
   "file_extension": ".py",
   "mimetype": "text/x-python",
   "name": "python",
   "nbconvert_exporter": "python",
   "pygments_lexer": "ipython3",
   "version": "3.8.5"
  }
 },
 "nbformat": 4,
 "nbformat_minor": 4
}
